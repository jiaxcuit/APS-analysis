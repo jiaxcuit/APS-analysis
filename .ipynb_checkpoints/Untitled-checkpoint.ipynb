{
 "cells": [
  {
   "cell_type": "code",
   "execution_count": 2,
   "id": "37bc84d0",
   "metadata": {},
   "outputs": [],
   "source": [
    "# packages and libraries\n",
    "import matplotlib.pyplot as plt, tkinter as tk, tkinter.filedialog\n",
    "from os.path import normpath,split\n",
    "from os import getenv\n",
    "from apsmodule import APS\n",
    "onedrive=getenv('OneDrive')\n",
    "APSdir=normpath(onedrive+'\\\\Data\\\\APS')"
   ]
  },
  {
   "cell_type": "code",
   "execution_count": 4,
   "id": "f94a6d84",
   "metadata": {
    "scrolled": false
   },
   "outputs": [
    {
     "data": {
      "text/plain": [
       "0.0"
      ]
     },
     "execution_count": 4,
     "metadata": {},
     "output_type": "execute_result"
    }
   ],
   "source": [
    "# clean/create filenames\n",
    "filenames=[]"
   ]
  },
  {
   "cell_type": "code",
   "execution_count": 1,
   "id": "0ed4adc5",
   "metadata": {},
   "outputs": [
    {
     "ename": "NameError",
     "evalue": "name 'tk' is not defined",
     "output_type": "error",
     "traceback": [
      "\u001b[1;31m---------------------------------------------------------------------------\u001b[0m",
      "\u001b[1;31mNameError\u001b[0m                                 Traceback (most recent call last)",
      "\u001b[1;32m~\\AppData\\Local\\Temp/ipykernel_20212/2724460314.py\u001b[0m in \u001b[0;36m<module>\u001b[1;34m\u001b[0m\n\u001b[0;32m      1\u001b[0m \u001b[1;31m#%% choose files\u001b[0m\u001b[1;33m\u001b[0m\u001b[1;33m\u001b[0m\u001b[1;33m\u001b[0m\u001b[0m\n\u001b[1;32m----> 2\u001b[1;33m \u001b[0mroot\u001b[0m\u001b[1;33m=\u001b[0m\u001b[0mtk\u001b[0m\u001b[1;33m.\u001b[0m\u001b[0mTk\u001b[0m\u001b[1;33m(\u001b[0m\u001b[1;33m)\u001b[0m\u001b[1;33m\u001b[0m\u001b[1;33m\u001b[0m\u001b[0m\n\u001b[0m\u001b[0;32m      3\u001b[0m \u001b[0mroot\u001b[0m\u001b[1;33m.\u001b[0m\u001b[0mwithdraw\u001b[0m\u001b[1;33m(\u001b[0m\u001b[1;33m)\u001b[0m\u001b[1;33m\u001b[0m\u001b[1;33m\u001b[0m\u001b[0m\n\u001b[0;32m      4\u001b[0m \u001b[0mfilenames\u001b[0m\u001b[1;33m+=\u001b[0m\u001b[0mtkinter\u001b[0m\u001b[1;33m.\u001b[0m\u001b[0mfiledialog\u001b[0m\u001b[1;33m.\u001b[0m\u001b[0maskopenfilenames\u001b[0m\u001b[1;33m(\u001b[0m\u001b[0mparent\u001b[0m\u001b[1;33m=\u001b[0m\u001b[0mroot\u001b[0m\u001b[1;33m,\u001b[0m\u001b[0minitialdir\u001b[0m\u001b[1;33m=\u001b[0m\u001b[0mAPSdir\u001b[0m\u001b[1;33m,\u001b[0m \u001b[0mtitle\u001b[0m\u001b[1;33m=\u001b[0m\u001b[1;34m'Please select APS files'\u001b[0m\u001b[1;33m,\u001b[0m\u001b[0mfiletypes\u001b[0m\u001b[1;33m=\u001b[0m\u001b[1;33m[\u001b[0m\u001b[1;33m(\u001b[0m\u001b[1;34m'DAT'\u001b[0m\u001b[1;33m,\u001b[0m\u001b[1;34m'.DAT'\u001b[0m\u001b[1;33m)\u001b[0m\u001b[1;33m]\u001b[0m\u001b[1;33m)\u001b[0m\u001b[1;33m\u001b[0m\u001b[1;33m\u001b[0m\u001b[0m\n",
      "\u001b[1;31mNameError\u001b[0m: name 'tk' is not defined"
     ]
    }
   ],
   "source": [
    "#%% choose files\n",
    "root=tk.Tk()\n",
    "root.withdraw()\n",
    "filenames+=tkinter.filedialog.askopenfilenames(parent=root,initialdir=APSdir, title='Please select APS files',filetypes=[('DAT','.DAT')])"
   ]
  },
  {
   "cell_type": "code",
   "execution_count": null,
   "id": "baedefa0",
   "metadata": {},
   "outputs": [],
   "source": [
    "#%% load files into data\n",
    "plt.close('all')\n",
    "data=[]\n",
    "data+=APS.import_from_files(filenames,sqrt=False,trunc=-8)\n"
   ]
  },
  {
   "cell_type": "code",
   "execution_count": null,
   "id": "cb3d8011",
   "metadata": {},
   "outputs": [],
   "source": [
    "#%% analyze data\n",
    "plt.close('all')\n",
    "for i in data:\n",
    "    i.analyze(0)\n",
    "    "
   ]
  },
  {
   "cell_type": "code",
   "execution_count": null,
   "id": "5b01efb4",
   "metadata": {},
   "outputs": [],
   "source": [
    "#%% overlay all the data\n",
    "fig=plt.figure('APS overlay')\n",
    "for i in data: i.plot()\n",
    "    "
   ]
  },
  {
   "cell_type": "code",
   "execution_count": null,
   "id": "50231d5c",
   "metadata": {},
   "outputs": [],
   "source": [
    "#%% Saving APS and APS fit and HOMO with error\n",
    "location=split(filenames[0])[0]\n",
    "APS.save_aps_csv(data,location)\n",
    "APS.save_aps_fit_csv(data,location)\n",
    "APS.save_homo_error_csv(data,location)\n",
    "\n"
   ]
  },
  {
   "cell_type": "code",
   "execution_count": null,
   "id": "f70338c5",
   "metadata": {},
   "outputs": [],
   "source": [
    "#%% smoothing DOS\n",
    "_=[i.DOSsmooth(7,3,plot=True) for i in data]\n",
    "\n",
    "\n"
   ]
  },
  {
   "cell_type": "code",
   "execution_count": null,
   "id": "225ec28f",
   "metadata": {},
   "outputs": [],
   "source": [
    "#%% overlay all the DOS\n",
    "plt.figure('DOS')\n",
    "for i in data: i.DOSplot()\n",
    "\n"
   ]
  },
  {
   "cell_type": "code",
   "execution_count": null,
   "id": "050581c0",
   "metadata": {},
   "outputs": [],
   "source": [
    "#%% Saving DOS into csv\n",
    "location=split(filenames[0])[0]\n",
    "APS.save_DOS_csv(data,location)"
   ]
  }
 ],
 "metadata": {
  "kernelspec": {
   "display_name": "Python 3 (ipykernel)",
   "language": "python",
   "name": "python3"
  },
  "language_info": {
   "codemirror_mode": {
    "name": "ipython",
    "version": 3
   },
   "file_extension": ".py",
   "mimetype": "text/x-python",
   "name": "python",
   "nbconvert_exporter": "python",
   "pygments_lexer": "ipython3",
   "version": "3.8.11"
  }
 },
 "nbformat": 4,
 "nbformat_minor": 5
}
